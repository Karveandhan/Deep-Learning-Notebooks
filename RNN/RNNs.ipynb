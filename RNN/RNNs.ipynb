{
  "nbformat": 4,
  "nbformat_minor": 0,
  "metadata": {
    "colab": {
      "provenance": []
    },
    "kernelspec": {
      "name": "python3",
      "display_name": "Python 3"
    },
    "language_info": {
      "name": "python"
    }
  },
  "cells": [
    {
      "cell_type": "markdown",
      "source": [
        "## Outline\n",
        "\n",
        "1. Introduce dataset\n",
        "2. Data Processing - Test-train split, encoding, visualisation\n",
        "3. Basic RNN - testing inference\n",
        "4. Evaluation and Training\n",
        "5. LSTM\n",
        "6. GRU"
      ],
      "metadata": {
        "id": "MVtqzYKYOX4Q"
      }
    },
    {
      "cell_type": "code",
      "execution_count": 1,
      "metadata": {
        "id": "JNLklWyhOVjq"
      },
      "outputs": [],
      "source": [
        "from io import open\n",
        "import os, string, random, time, math\n",
        "import matplotlib.pyplot as plt\n",
        "import seaborn as sns\n",
        "import numpy as np"
      ]
    },
    {
      "cell_type": "code",
      "source": [
        "from sklearn.model_selection import train_test_split"
      ],
      "metadata": {
        "id": "RkU9bC6KO1Ih"
      },
      "execution_count": 2,
      "outputs": []
    },
    {
      "cell_type": "code",
      "source": [
        "import torch\n",
        "import torch.nn as nn\n",
        "import torch.optim as optim"
      ],
      "metadata": {
        "id": "WNCRqvS9O4j0"
      },
      "execution_count": 3,
      "outputs": []
    },
    {
      "cell_type": "code",
      "source": [
        "from IPython.display import clear_output"
      ],
      "metadata": {
        "id": "HMlfUf4NO9Mv"
      },
      "execution_count": 4,
      "outputs": []
    },
    {
      "cell_type": "code",
      "source": [
        "X=[]\n",
        "y=[]\n",
        "data=[]\n",
        "language=set()\n",
        "with open('name2lang.txt','r') as f:\n",
        "  for line in f:\n",
        "    line=line.split(',')\n",
        "    name=line[0].strip()\n",
        "    lang=line[1].strip()\n",
        "    language.add(lang)\n",
        "    X.append(name)\n",
        "    y.append(lang)\n",
        "    data.append((name,lang))\n",
        "\n",
        "n_language=len(language)\n"
      ],
      "metadata": {
        "id": "m3Gkmh2sPAOR"
      },
      "execution_count": 5,
      "outputs": []
    },
    {
      "cell_type": "code",
      "source": [
        "language=list(language)"
      ],
      "metadata": {
        "id": "XNN_54miR10t"
      },
      "execution_count": 6,
      "outputs": []
    },
    {
      "cell_type": "code",
      "source": [
        "print(language)"
      ],
      "metadata": {
        "colab": {
          "base_uri": "https://localhost:8080/"
        },
        "id": "OAMfwCpY5hzI",
        "outputId": "f7d37466-8a3d-4a4b-871f-4e8c3a2a755d"
      },
      "execution_count": 7,
      "outputs": [
        {
          "output_type": "stream",
          "name": "stdout",
          "text": [
            "['Russian', 'Czech', 'Korean', 'English', 'Spanish', 'Japanese', 'Dutch', 'Scottish', 'Polish', 'Vietnamese', 'German', 'Portuguese', 'Italian', 'Chinese', 'French', 'Arabic', 'Greek', 'Irish']\n"
          ]
        }
      ]
    },
    {
      "cell_type": "code",
      "source": [
        "print(data[:10])"
      ],
      "metadata": {
        "colab": {
          "base_uri": "https://localhost:8080/"
        },
        "id": "3GRLi7nt6Xmr",
        "outputId": "1b5388e2-d769-4bdc-c412-941981e91416"
      },
      "execution_count": 8,
      "outputs": [
        {
          "output_type": "stream",
          "name": "stdout",
          "text": [
            "[('Abreu', 'Portuguese'), ('Albuquerque', 'Portuguese'), ('Almeida', 'Portuguese'), ('Alves', 'Portuguese'), ('Araujo', 'Portuguese'), ('Araullo', 'Portuguese'), ('Barros', 'Portuguese'), ('Basurto', 'Portuguese'), ('Belo', 'Portuguese'), ('Cabral', 'Portuguese')]\n"
          ]
        }
      ]
    },
    {
      "cell_type": "markdown",
      "source": [
        "## Train Test Split"
      ],
      "metadata": {
        "id": "H7FLdic77Akb"
      }
    },
    {
      "cell_type": "code",
      "source": [
        "X_train,X_test,y_train,y_test=train_test_split(X,y,test_size=0.2,random_state=42,stratify=y)\n"
      ],
      "metadata": {
        "id": "TE064Jdm7ALw"
      },
      "execution_count": 9,
      "outputs": []
    },
    {
      "cell_type": "code",
      "source": [
        "print(len(X_train),len(X_test))"
      ],
      "metadata": {
        "colab": {
          "base_uri": "https://localhost:8080/"
        },
        "id": "JebVonpy69Xo",
        "outputId": "e1e9e20e-74ce-48fa-e5c7-ee9a436fde8a"
      },
      "execution_count": 10,
      "outputs": [
        {
          "output_type": "stream",
          "name": "stdout",
          "text": [
            "16040 4010\n"
          ]
        }
      ]
    },
    {
      "cell_type": "markdown",
      "source": [
        "## Encoding names and language"
      ],
      "metadata": {
        "id": "pCUhfZyA7eX3"
      }
    },
    {
      "cell_type": "code",
      "source": [
        "all_letters=string.ascii_letters+' .,;'\n",
        "n_letters=len(all_letters)"
      ],
      "metadata": {
        "id": "FmrsZLsl7Oni"
      },
      "execution_count": 11,
      "outputs": []
    },
    {
      "cell_type": "code",
      "source": [
        "def name_rep(name):\n",
        "  rep=torch.zeros(len(name),1,n_letters)\n",
        "  for index,letter in enumerate(name):\n",
        "    pos=all_letters.find(letter)\n",
        "    rep[index][0][pos]=1\n",
        "  return rep"
      ],
      "metadata": {
        "id": "948ApHvJ72Rt"
      },
      "execution_count": 12,
      "outputs": []
    },
    {
      "cell_type": "code",
      "source": [
        "def lang_rep(lang):\n",
        "  return torch.tensor([language.index(lang)],dtype=torch.long)"
      ],
      "metadata": {
        "id": "3jEeGJ7572eR"
      },
      "execution_count": 13,
      "outputs": []
    },
    {
      "cell_type": "code",
      "source": [
        "name_rep('Karveandhan').shape"
      ],
      "metadata": {
        "colab": {
          "base_uri": "https://localhost:8080/"
        },
        "id": "UOnITBlTD1zE",
        "outputId": "cb7d9141-3b10-4e63-a400-22c97baccb06"
      },
      "execution_count": 14,
      "outputs": [
        {
          "output_type": "execute_result",
          "data": {
            "text/plain": [
              "torch.Size([11, 1, 56])"
            ]
          },
          "metadata": {},
          "execution_count": 14
        }
      ]
    },
    {
      "cell_type": "code",
      "source": [
        "lang_rep('English')"
      ],
      "metadata": {
        "colab": {
          "base_uri": "https://localhost:8080/"
        },
        "id": "55af-nwND4zN",
        "outputId": "9ff9e684-ca7f-4b46-d4f1-798d18b35d33"
      },
      "execution_count": 15,
      "outputs": [
        {
          "output_type": "execute_result",
          "data": {
            "text/plain": [
              "tensor([3])"
            ]
          },
          "metadata": {},
          "execution_count": 15
        }
      ]
    },
    {
      "cell_type": "markdown",
      "source": [
        "## Basic Visualization"
      ],
      "metadata": {
        "id": "hIpOHh93SRYn"
      }
    },
    {
      "cell_type": "code",
      "source": [
        "count={}\n",
        "for l in language:\n",
        "  count[l]=0\n",
        "for d in data:\n",
        "  count[d[1]]+=1"
      ],
      "metadata": {
        "id": "mg2h1lZqRte1"
      },
      "execution_count": 16,
      "outputs": []
    },
    {
      "cell_type": "code",
      "source": [
        "count"
      ],
      "metadata": {
        "colab": {
          "base_uri": "https://localhost:8080/"
        },
        "id": "TCBjNPE_SgfG",
        "outputId": "855d9319-9773-4e70-a2a4-2aa355d1b87d"
      },
      "execution_count": 17,
      "outputs": [
        {
          "output_type": "execute_result",
          "data": {
            "text/plain": [
              "{'Russian': 9384,\n",
              " 'Czech': 519,\n",
              " 'Korean': 94,\n",
              " 'English': 3668,\n",
              " 'Spanish': 298,\n",
              " 'Japanese': 991,\n",
              " 'Dutch': 297,\n",
              " 'Scottish': 100,\n",
              " 'Polish': 139,\n",
              " 'Vietnamese': 73,\n",
              " 'German': 724,\n",
              " 'Portuguese': 74,\n",
              " 'Italian': 709,\n",
              " 'Chinese': 268,\n",
              " 'French': 277,\n",
              " 'Arabic': 2000,\n",
              " 'Greek': 203,\n",
              " 'Irish': 232}"
            ]
          },
          "metadata": {},
          "execution_count": 17
        }
      ]
    },
    {
      "cell_type": "code",
      "source": [
        "plt_=sns.barplot(list(count.keys()),list(count.values()))\n",
        "plt_.set_xticklabels(plt_.get_xticklabels(),rotation=90)\n",
        "plt.show()"
      ],
      "metadata": {
        "colab": {
          "base_uri": "https://localhost:8080/",
          "height": 369
        },
        "id": "Ufhz5DTQSg10",
        "outputId": "d517fcfe-639f-4abe-bf30-4ea7e783f0d6"
      },
      "execution_count": 18,
      "outputs": [
        {
          "output_type": "stream",
          "name": "stderr",
          "text": [
            "/usr/local/lib/python3.8/dist-packages/seaborn/_decorators.py:36: FutureWarning: Pass the following variables as keyword args: x, y. From version 0.12, the only valid positional argument will be `data`, and passing other arguments without an explicit keyword will result in an error or misinterpretation.\n",
            "  warnings.warn(\n"
          ]
        },
        {
          "output_type": "display_data",
          "data": {
            "text/plain": [
              "<Figure size 432x288 with 1 Axes>"
            ],
            "image/png": "[encoded data removed]"
          },
          "metadata": {
            "needs_background": "light"
          }
        }
      ]
    },
    {
      "cell_type": "markdown",
      "source": [
        "## Basic network and testing inference"
      ],
      "metadata": {
        "id": "LV0b8dfbUGdd"
      }
    },
    {
      "cell_type": "code",
      "source": [
        "#Predicting Russian all the time\n",
        "count['Russian']/sum(count.values())"
      ],
      "metadata": {
        "colab": {
          "base_uri": "https://localhost:8080/"
        },
        "id": "XBpK_LCHSqLr",
        "outputId": "3e7f8363-2ba7-4216-cb35-c29b5bcd5639"
      },
      "execution_count": 19,
      "outputs": [
        {
          "output_type": "execute_result",
          "data": {
            "text/plain": [
              "0.4680299251870324"
            ]
          },
          "metadata": {},
          "execution_count": 19
        }
      ]
    },
    {
      "cell_type": "code",
      "source": [
        "class RNN_net(nn.Module):\n",
        "  def __init__(self,input_size,hidden_size,output_size):\n",
        "    super(RNN_net,self).__init__()\n",
        "    self.hidden_size=hidden_size\n",
        "    self.i2h=nn.Linear(input_size+hidden_size,hidden_size)\n",
        "    self.i2o=nn.Linear(input_size+hidden_size,output_size)\n",
        "    self.softmax=nn.LogSoftmax(dim=1)\n",
        "\n",
        "  def forward(self,input_,hidden):\n",
        "    combined=torch.cat((input_,hidden),1)\n",
        "    hidden=self.i2h(combined)\n",
        "    output=self.i2o(combined)\n",
        "    output=self.softmax(output)\n",
        "    return output,hidden\n",
        "\n",
        "  def init_hidden(self):\n",
        "    return torch.zeros(1,self.hidden_size)"
      ],
      "metadata": {
        "id": "6JfctiUyUYCG"
      },
      "execution_count": 20,
      "outputs": []
    },
    {
      "cell_type": "code",
      "source": [
        "n_hidden=128\n",
        "net=RNN_net(n_letters,n_hidden,n_language)\n"
      ],
      "metadata": {
        "id": "6JhST4BxXB-D"
      },
      "execution_count": 21,
      "outputs": []
    },
    {
      "cell_type": "code",
      "source": [
        "def infer(net,name):\n",
        "  net.eval()\n",
        "  name_ohe=name_rep(name)\n",
        "  hidden=net.init_hidden()\n",
        "\n",
        "  for i in range(name_ohe.size()[0]):\n",
        "    output,hidden=net(name_ohe[i],hidden)\n",
        "\n",
        "  return output"
      ],
      "metadata": {
        "id": "hITXNjr4XLU2"
      },
      "execution_count": 22,
      "outputs": []
    },
    {
      "cell_type": "code",
      "source": [
        "output=infer(net,'Adam')\n",
        "index=torch.argmax(output)\n",
        "print(output,index)"
      ],
      "metadata": {
        "colab": {
          "base_uri": "https://localhost:8080/"
        },
        "id": "mPZyNoQ3XzlV",
        "outputId": "f2a2c4fc-e49b-4063-8f1e-f59a1a6d62a0"
      },
      "execution_count": 23,
      "outputs": [
        {
          "output_type": "stream",
          "name": "stdout",
          "text": [
            "tensor([[-3.0058, -2.7926, -2.8905, -2.7316, -2.8243, -2.8547, -2.8152, -3.0654,\n",
            "         -2.9865, -2.9395, -2.9190, -2.9282, -2.9510, -2.9491, -2.8440, -2.9161,\n",
            "         -2.8493, -2.8235]], grad_fn=<LogSoftmaxBackward0>) tensor(3)\n"
          ]
        }
      ]
    },
    {
      "cell_type": "markdown",
      "source": [
        "## Evaluate model"
      ],
      "metadata": {
        "id": "ANfvexfkZgfS"
      }
    },
    {
      "cell_type": "code",
      "source": [
        "def dataloader(npoints,X_,y_):\n",
        "  to_ret=[]\n",
        "  for i in range(npoints):\n",
        "    index_=np.random.randint(len(X_))\n",
        "    name,lang=X_[index_],y_[index_]\n",
        "    to_ret.append((name,lang,name_rep(name),lang_rep(lang)))\n",
        "\n",
        "  return to_ret"
      ],
      "metadata": {
        "id": "Th8FktQ2YHVw"
      },
      "execution_count": 24,
      "outputs": []
    },
    {
      "cell_type": "code",
      "source": [
        "def eval(net,n_points,k,X_,y_):\n",
        "  data_=dataloader(n_points,X_,y_)\n",
        "  correct=0\n",
        "\n",
        "  for name,language,name_ohe,lang_rep in data_:\n",
        "    output=infer(net,name)\n",
        "    val,indices=output.topk(k)\n",
        "\n",
        "    if lang_rep in indices:\n",
        "      correct+=1\n",
        "\n",
        "  accuracy=correct/n_points\n",
        "  return accuracy"
      ],
      "metadata": {
        "id": "-CK9kI54YPxS"
      },
      "execution_count": 25,
      "outputs": []
    },
    {
      "cell_type": "code",
      "source": [
        "eval(net,1000,1,X_test,y_test)"
      ],
      "metadata": {
        "colab": {
          "base_uri": "https://localhost:8080/"
        },
        "id": "Ereet9oubV30",
        "outputId": "6d37f789-7eb6-4ead-8bf3-1ecc7782f18f"
      },
      "execution_count": 26,
      "outputs": [
        {
          "output_type": "execute_result",
          "data": {
            "text/plain": [
              "0.066"
            ]
          },
          "metadata": {},
          "execution_count": 26
        }
      ]
    },
    {
      "cell_type": "markdown",
      "source": [
        "## Training"
      ],
      "metadata": {
        "id": "u_N2nEQjbiV3"
      }
    },
    {
      "cell_type": "markdown",
      "source": [
        "### Basic Setup"
      ],
      "metadata": {
        "id": "Uu0kGohXbpyf"
      }
    },
    {
      "cell_type": "code",
      "source": [
        "def train(net,opt,criterion,n_points):\n",
        "  opt.zero_grad()\n",
        "  total_loss=0\n",
        "  data_=dataloader(n_points,X_train,y_train)\n",
        "  for name, language, name_ohe, lang_rep in data_:\n",
        "    hidden=net.init_hidden()\n",
        "    for i in range(name_ohe.size()[0]):\n",
        "      output,hidden=net(name_ohe[i],hidden)\n",
        "\n",
        "    loss=criterion(output,lang_rep)\n",
        "    loss.backward(retain_graph=True)\n",
        "\n",
        "    total_loss+=loss\n",
        "  \n",
        "  opt.step()\n",
        "\n",
        "  return total_loss/n_points"
      ],
      "metadata": {
        "id": "Rm-IRMQqbZGZ"
      },
      "execution_count": 27,
      "outputs": []
    },
    {
      "cell_type": "code",
      "source": [
        "criterion=nn.NLLLoss()\n",
        "opt=optim.SGD(net.parameters(),lr=0.01,momentum=0.9)\n"
      ],
      "metadata": {
        "id": "H1ppngHPc8C1"
      },
      "execution_count": 28,
      "outputs": []
    },
    {
      "cell_type": "code",
      "source": [
        "%%time\n",
        "\n",
        "train(net,opt,criterion,200)"
      ],
      "metadata": {
        "colab": {
          "base_uri": "https://localhost:8080/"
        },
        "id": "G_Rs9QG2dOzG",
        "outputId": "4348c02a-fecc-4115-8e77-c085bcf7eb56"
      },
      "execution_count": 29,
      "outputs": [
        {
          "output_type": "stream",
          "name": "stdout",
          "text": [
            "CPU times: user 172 ms, sys: 18.2 ms, total: 190 ms\n",
            "Wall time: 262 ms\n"
          ]
        },
        {
          "output_type": "execute_result",
          "data": {
            "text/plain": [
              "tensor(2.8943, grad_fn=<DivBackward0>)"
            ]
          },
          "metadata": {},
          "execution_count": 29
        }
      ]
    },
    {
      "cell_type": "code",
      "source": [
        "eval(net,1000,1,X_test,y_test)"
      ],
      "metadata": {
        "colab": {
          "base_uri": "https://localhost:8080/"
        },
        "id": "wUnEiwNRdZdQ",
        "outputId": "fb670d53-e642-41d5-8240-e5a72143ade4"
      },
      "execution_count": 30,
      "outputs": [
        {
          "output_type": "execute_result",
          "data": {
            "text/plain": [
              "0.484"
            ]
          },
          "metadata": {},
          "execution_count": 30
        }
      ]
    },
    {
      "cell_type": "markdown",
      "source": [
        "## Full Training setup"
      ],
      "metadata": {
        "id": "-Cz4XQzhd6Cg"
      }
    },
    {
      "cell_type": "code",
      "source": [
        "def train_setup(net,lr=0.01,n_batches=100,batch_size=10,momentum=0.9,display_freq=5):\n",
        "  criterion=nn.NLLLoss()\n",
        "  opt=optim.SGD(net.parameters(),lr=lr,momentum=momentum)\n",
        "  \n",
        "  loss_arr=np.zeros(n_batches+1)\n",
        "  \n",
        "  for i in range(n_batches):\n",
        "    loss_arr[i+1]=(loss_arr[i]*i+train(net,opt,criterion,batch_size))/(i+1)\n",
        "\n",
        "    if i%display_freq ==display_freq-1:\n",
        "      clear_output(wait=True)\n",
        "\n",
        "      print('Iteration ',i,'Top-1:',eval(net,len(X_test),1,X_test,y_test),'Top-2:',eval(net,len(X_test),2,X_test,y_test))\n",
        "      plt.figure()\n",
        "      plt.plot(loss_arr[1:i],'-*')\n",
        "      plt.xlabel('Iteration')\n",
        "      plt.ylabel('Loss')\n",
        "      plt.show()\n",
        "      print('\\n\\n')"
      ],
      "metadata": {
        "id": "9yS4tuiZdu0j"
      },
      "execution_count": 31,
      "outputs": []
    },
    {
      "cell_type": "code",
      "source": [
        "n_hidden=128\n",
        "net=RNN_net(n_letters,n_hidden,n_language)\n",
        "train_setup(net,lr=0.0005,n_batches=100,batch_size=256)"
      ],
      "metadata": {
        "colab": {
          "base_uri": "https://localhost:8080/",
          "height": 348
        },
        "id": "Lg4XFjacgAAG",
        "outputId": "91bb8660-2d3a-4372-b94c-69e7d08a12d6"
      },
      "execution_count": 32,
      "outputs": [
        {
          "output_type": "stream",
          "name": "stdout",
          "text": [
            "Iteration  99 Top-1: 0.6518703241895262 Top-2: 0.7815461346633417\n"
          ]
        },
        {
          "output_type": "display_data",
          "data": {
            "text/plain": [
              "<Figure size 432x288 with 1 Axes>"
            ],
            "image/png": "[encoded data removed]"
          },
          "metadata": {
            "needs_background": "light"
          }
        },
        {
          "output_type": "stream",
          "name": "stdout",
          "text": [
            "\n",
            "\n",
            "\n"
          ]
        }
      ]
    },
    {
      "cell_type": "markdown",
      "source": [
        "## LSTM cell"
      ],
      "metadata": {
        "id": "aszO6zAa3drY"
      }
    },
    {
      "cell_type": "code",
      "source": [
        "class LSTM_net(nn.Module):\n",
        "  def __init__(self,input_size,hidden_size,output_size):\n",
        "    super(LSTM_net,self).__init__()\n",
        "    self.hidden_size=hidden_size\n",
        "    self.lstm_cell=nn.LSTM(input_size,hidden_size)\n",
        "    self.h2o=nn.Linear(hidden_size,output_size)\n",
        "    self.softmax=nn.LogSoftmax(dim=2)\n",
        "  \n",
        "  def forward(self,input_,hidden):\n",
        "    out,hidden=self.lstm_cell(input_.view(1,1,-1),hidden)\n",
        "    output=self.h2o(hidden[0])\n",
        "    output=self.softmax(output)\n",
        "    return output.view(1,-1),hidden\n",
        "\n",
        "  def init_hidden(self):\n",
        "    return (torch.zeros(1,1,self.hidden_size),torch.zeros(1,1,self.hidden_size))\n"
      ],
      "metadata": {
        "id": "iDyTbK7VgOTf"
      },
      "execution_count": 39,
      "outputs": []
    },
    {
      "cell_type": "code",
      "source": [
        "n_hidden=128\n",
        "net=LSTM_net(n_letters,n_hidden,n_language)\n",
        "train_setup(net,lr=0.0005,n_batches=100,batch_size=256)"
      ],
      "metadata": {
        "colab": {
          "base_uri": "https://localhost:8080/",
          "height": 348
        },
        "id": "29zqYmi2L7b7",
        "outputId": "e37c7e4b-92b5-4b0a-933a-17f6186b8427"
      },
      "execution_count": 40,
      "outputs": [
        {
          "output_type": "stream",
          "name": "stdout",
          "text": [
            "Iteration  99 Top-1: 0.5341645885286783 Top-2: 0.6785536159600998\n"
          ]
        },
        {
          "output_type": "display_data",
          "data": {
            "text/plain": [
              "<Figure size 432x288 with 1 Axes>"
            ],
            "image/png": "[encoded data removed]"
          },
          "metadata": {
            "needs_background": "light"
          }
        },
        {
          "output_type": "stream",
          "name": "stdout",
          "text": [
            "\n",
            "\n",
            "\n"
          ]
        }
      ]
    },
    {
      "cell_type": "code",
      "source": [
        "class GRU_net(nn.Module):\n",
        "  def __init__(self,input_size,hidden_size,output_size):\n",
        "    super(GRU_net,self).__init__()\n",
        "    self.hidden_size=hidden_size\n",
        "    self.gru_cell=nn.GRU(input_size,hidden_size)\n",
        "    self.h2o=nn.Linear(hidden_size,output_size)\n",
        "    self.softmax=nn.LogSoftmax(dim=2)\n",
        "\n",
        "  def forward(self,input_,hidden):\n",
        "    out,hidden=self.gru_cell(input_.view(1,1,-1),hidden)\n",
        "    output=self.h2o(hidden)\n",
        "    output=self.softmax(output)\n",
        "    return output.view(1,-1),hidden\n",
        "\n",
        "  def init_hidden(self):\n",
        "    return torch.zeros(1,1,self.hidden_size)"
      ],
      "metadata": {
        "id": "IcWcPJuoMRaw"
      },
      "execution_count": 41,
      "outputs": []
    },
    {
      "cell_type": "code",
      "source": [
        "n_hidden=128\n",
        "net=GRU_net(n_letters,n_hidden,n_language)\n",
        "train_setup(net,lr=0.0005,n_batches=100,batch_size=256)"
      ],
      "metadata": {
        "colab": {
          "base_uri": "https://localhost:8080/",
          "height": 348
        },
        "id": "8GdB023zdCUK",
        "outputId": "f11e83f5-7ae7-4563-a6ef-bc776c9a14ea"
      },
      "execution_count": 42,
      "outputs": [
        {
          "output_type": "stream",
          "name": "stdout",
          "text": [
            "Iteration  99 Top-1: 0.6057356608478803 Top-2: 0.7433915211970075\n"
          ]
        },
        {
          "output_type": "display_data",
          "data": {
            "text/plain": [
              "<Figure size 432x288 with 1 Axes>"
            ],
            "image/png": "[encoded data removed]"
          },
          "metadata": {
            "needs_background": "light"
          }
        },
        {
          "output_type": "stream",
          "name": "stdout",
          "text": [
            "\n",
            "\n",
            "\n"
          ]
        }
      ]
    },
    {
      "cell_type": "code",
      "source": [],
      "metadata": {
        "id": "52t14xc7est1"
      },
      "execution_count": null,
      "outputs": []
    }
  ]
}